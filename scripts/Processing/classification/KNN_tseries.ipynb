{
 "cells": [
  {
   "cell_type": "code",
   "execution_count": 2,
   "metadata": {},
   "outputs": [],
   "source": [
    "import pandas as pd\n",
    "import numpy as np\n",
    "from scipy.signal import butter, filtfilt, resample\n",
    "import matplotlib.pyplot as plt"
   ]
  },
  {
   "cell_type": "code",
   "execution_count": 3,
   "metadata": {},
   "outputs": [
    {
     "name": "stdout",
     "output_type": "stream",
     "text": [
      "0        1\n",
      "1        1\n",
      "2        1\n",
      "3        1\n",
      "4        1\n",
      "        ..\n",
      "7542    12\n",
      "7543    12\n",
      "7544    12\n",
      "7545    12\n",
      "7546    12\n",
      "Name: Type, Length: 7547, dtype: int64\n"
     ]
    }
   ],
   "source": [
    "# Read the CSV file into the DataFrame\n",
    "df = pd.read_csv(\"D:\\shared_git\\MaestriaThesis\\FeaturesTabs\\pp01_t1.csv\")\n",
    "\n",
    "# Rename the first four columns\n",
    "new_column_names = ['channels', 'ID', 'Type', 'Epoch']\n",
    "df.rename(columns=dict(zip(df.columns[:4], new_column_names)), inplace=True)\n",
    "\n",
    "filtered_class_labels = df[df['channels'] == 5]\n",
    "filtered_class_labels = filtered_class_labels.drop(columns=['ID'])\n",
    "filtered_class_labels = filtered_class_labels.drop(columns=['channels', 'Epoch'])\n",
    "filtered_class_labels = filtered_class_labels.reset_index(drop=True)\n",
    "\n",
    "# Extract the next 1000 columns as an array\n",
    "data_array = filtered_class_labels.iloc[:, 4:].values\n",
    "class_labels = filtered_class_labels.iloc[:,0]\n",
    "\n",
    "print(class_labels)"
   ]
  },
  {
   "cell_type": "code",
   "execution_count": 4,
   "metadata": {},
   "outputs": [
    {
     "name": "stdout",
     "output_type": "stream",
     "text": [
      "0       Air\n",
      "1       Air\n",
      "2       Air\n",
      "3       Air\n",
      "4       Air\n",
      "       ... \n",
      "6995    Car\n",
      "6996    Car\n",
      "6997    Car\n",
      "6998    Car\n",
      "6999    Car\n",
      "Name: Type, Length: 7000, dtype: object\n"
     ]
    }
   ],
   "source": [
    "mods = class_labels.copy() \n",
    "mod = ['Air', 'Vib', 'Car']\n",
    "mods[(4 >= class_labels)] = mod[0]\n",
    "mods[(5 <= class_labels) & (8 >= class_labels)] = mod[1]\n",
    "mods[(9 <= class_labels) & (12 <= class_labels)] = mod[2]\n",
    "\n",
    "print(mods.head(7000)) \n",
    "class_labels = (class_labels - 1) % 4 + 1 "
   ]
  },
  {
   "cell_type": "code",
   "execution_count": 5,
   "metadata": {},
   "outputs": [],
   "source": [
    "lowcut = 2.0  \n",
    "highcut = 30.0  \n",
    "fs_original = 250.0  \n",
    "fs_downsampled = 60 \n",
    "\n",
    "nyquist = 0.5 * fs_original\n",
    "low = lowcut / nyquist\n",
    "high = highcut / nyquist\n",
    "b, a = butter(4, [low, high], btype='band')\n",
    "\n",
    "filtered_data_array = np.apply_along_axis(lambda x: filtfilt(b, a, x), axis=1, arr=data_array)\n",
    "\n",
    "downsample_factor = int(fs_original / fs_downsampled)\n",
    "downsampled_data_array = resample(filtered_data_array, len(filtered_data_array[0]) // downsample_factor, axis=1)"
   ]
  },
  {
   "cell_type": "code",
   "execution_count": 6,
   "metadata": {},
   "outputs": [],
   "source": [
    "from scipy.signal import butter, filtfilt, resample\n",
    "\n",
    "row_index = 0\n",
    "original_row = data_array[row_index, :]\n",
    "filtered_row = filtered_data_array[row_index, :]\n",
    "downsampled_row = downsampled_data_array[row_index, :]\n",
    "\n",
    "window_size = 10\n",
    "moving_average_row = np.convolve(downsampled_row, np.ones(window_size)/window_size, mode='same')\n",
    "\n",
    "time_original = np.arange(0, len(original_row)) / fs_original\n",
    "\n",
    "time_downsampled = np.arange(0, len(downsampled_row)) / fs_downsampled\n",
    "\n",
    "time_moving_average = np.arange(0, len(moving_average_row)) / fs_downsampled"
   ]
  },
  {
   "cell_type": "code",
   "execution_count": 7,
   "metadata": {},
   "outputs": [
    {
     "name": "stdout",
     "output_type": "stream",
     "text": [
      "     Type         0         1         2         3         4         5  \\\n",
      "0     Air  0.551682  4.319338  8.119412  0.550700  1.641716  3.776759   \n",
      "1     Air  2.295502  5.531810  6.669759  3.779851  6.212644  0.644145   \n",
      "2     Air  0.951695  4.005640  5.720737  6.347818  2.466792  1.063216   \n",
      "3     Air -0.633069 -4.673608 -0.309353 -1.826944  0.477519 -0.222302   \n",
      "4     Air -0.811154 -4.235896 -2.731214  2.812897 -5.968457 -4.509219   \n",
      "...   ...       ...       ...       ...       ...       ...       ...   \n",
      "7542  Car -0.934849 -1.859289 -1.191566  2.239912  2.051117 -0.625381   \n",
      "7543  Car  1.159886  3.406044  2.383993 -1.740570 -6.798391 -2.610167   \n",
      "7544  Car  2.498982  9.069856  6.523309  8.431469  0.595698 -2.752342   \n",
      "7545  Car  0.358859  2.839038  4.112990 -0.438341  2.349776  1.917421   \n",
      "7546  Car  0.154401  2.665266  2.019970  1.930772  3.566385 -0.502490   \n",
      "\n",
      "             6         7         8  ...       301       302       303  \\\n",
      "0     1.811655  0.371775  0.664142  ...  4.069009 -2.240480  2.479074   \n",
      "1     3.073866  1.552748 -0.894622  ... -0.534420 -2.071751  4.282427   \n",
      "2     1.596075  0.725672  1.876796  ...  1.237030  0.636641 -1.590301   \n",
      "3    -1.929802  2.161962  0.934634  ... -5.736051 -0.975019  2.260107   \n",
      "4    -0.367788 -5.739588 -1.366823  ...  3.381096  2.764383 -0.166845   \n",
      "...        ...       ...       ...  ...       ...       ...       ...   \n",
      "7542 -3.550077 -1.567291 -3.680990  ...  0.700766 -0.007521 -4.038230   \n",
      "7543  2.888996 -4.013737 -3.386064  ...  1.158901  4.110969 -1.763602   \n",
      "7544  5.032483  0.264856 -1.503883  ... -0.774950  0.259560 -1.211563   \n",
      "7545 -4.055730 -3.849512  1.005734  ... -2.591327 -2.676668  1.006505   \n",
      "7546  1.033907  2.727856 -0.431803  ... -3.309655  1.316918 -0.199815   \n",
      "\n",
      "           304       305       306       307       308       309        310  \n",
      "0    -3.951320 -2.062373 -1.563488 -4.528638 -1.221813 -4.731845 -10.581954  \n",
      "1     3.011284 -3.741711  0.661919  5.536044 -0.260176 -0.812994   5.489705  \n",
      "2    -4.156286 -0.445575  0.995681  1.165690  1.489544 -1.826971  -2.767316  \n",
      "3    -1.550576 -1.747880  3.341065 -0.273316  1.583303  2.824313   5.166830  \n",
      "4     1.837048 -6.235872 -4.240192 -0.693649  2.405711 -1.649851  -3.160268  \n",
      "...        ...       ...       ...       ...       ...       ...        ...  \n",
      "7542 -0.806131  1.579741  1.405340  1.079177  3.618969 -0.118369   1.214120  \n",
      "7543 -1.067699 -1.678735  2.101010  1.866955  5.259207  8.725416   2.520240  \n",
      "7544 -2.552938 -0.909131 -0.649553  3.569070  7.211048  3.000431   1.303701  \n",
      "7545 -1.328414 -0.381740  0.229001  0.524049 -0.747797  1.333690   0.806498  \n",
      "7546 -0.984482  1.529697 -1.546015 -4.089471 -1.139394  0.977980  -0.438213  \n",
      "\n",
      "[7547 rows x 312 columns]\n"
     ]
    }
   ],
   "source": [
    "# Create a DataFrame with the downsampled data and class labels\n",
    "combined_df = pd.concat([mods, pd.DataFrame(downsampled_data_array)], axis=1)\n",
    "\n",
    "print(combined_df)"
   ]
  },
  {
   "cell_type": "code",
   "execution_count": 13,
   "metadata": {},
   "outputs": [
    {
     "name": "stdout",
     "output_type": "stream",
     "text": [
      "Accuracy: 27.09%\n"
     ]
    }
   ],
   "source": [
    "import pandas as pd\n",
    "from sklearn.neighbors import KNeighborsClassifier\n",
    "from sklearn.model_selection import train_test_split\n",
    "from sklearn.metrics import accuracy_score\n",
    "\n",
    "# Select features (X) and target variable (y)\n",
    "X = downsampled_data_array  # Assuming the downsampled data starts from the 5th column\n",
    "y = class_labels.values  # Assuming 'channels' is the target variable\n",
    "\n",
    "y = y.ravel()\n",
    "\n",
    "X_train, X_test, y_train, y_test = train_test_split(X, y, test_size=0.2, random_state=42)\n",
    "\n",
    "knn_model = KNeighborsClassifier(n_neighbors=12)\n",
    "\n",
    "knn_model.fit(X_train, y_train)\n",
    "\n",
    "y_pred = knn_model.predict(X_test)\n",
    "\n",
    "accuracy = accuracy_score(y_test, y_pred)\n",
    "print(f\"Accuracy: {accuracy * 100:.2f}%\")"
   ]
  }
 ],
 "metadata": {
  "kernelspec": {
   "display_name": "MA",
   "language": "python",
   "name": "python3"
  },
  "language_info": {
   "codemirror_mode": {
    "name": "ipython",
    "version": 3
   },
   "file_extension": ".py",
   "mimetype": "text/x-python",
   "name": "python",
   "nbconvert_exporter": "python",
   "pygments_lexer": "ipython3",
   "version": "3.11.5"
  }
 },
 "nbformat": 4,
 "nbformat_minor": 2
}
