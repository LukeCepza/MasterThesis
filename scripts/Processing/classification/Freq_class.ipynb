{
 "cells": [
  {
   "cell_type": "code",
   "execution_count": 2,
   "metadata": {},
   "outputs": [],
   "source": [
    "from Terminator import Terminator"
   ]
  },
  {
   "cell_type": "code",
   "execution_count": 2,
   "metadata": {},
   "outputs": [
    {
     "name": "stdout",
     "output_type": "stream",
     "text": [
      "------------------------------------------------------------\n",
      "Average K-Fold Accuracy of KNN: 35.29%\n",
      "Std Dev of K-Fold Accuracy of KNN: 0.42%\n",
      "------------------------------------------------------------\n",
      "------------------------------------------------------------\n",
      "Average K-Fold Accuracy of Random Forest: 36.84%\n",
      "Std Dev of K-Fold Accuracy of Random Forest: 1.75%\n",
      "------------------------------------------------------------\n",
      "Selecting features based on mutual information\n",
      "------------------------------------------------------------\n",
      "Average K-Fold Accuracy of KNN: 35.59%\n",
      "Std Dev of K-Fold Accuracy of KNN: 0.67%\n",
      "------------------------------------------------------------\n",
      "------------------------------------------------------------\n",
      "Average K-Fold Accuracy of Random Forest: 36.15%\n",
      "Std Dev of K-Fold Accuracy of Random Forest: 0.62%\n",
      "------------------------------------------------------------\n"
     ]
    }
   ],
   "source": [
    "t1 = Terminator(\"D:\\shared_git\\MaestriaThesis\\FeaturesTabs\\pp01_t1.csv\")"
   ]
  },
  {
   "cell_type": "code",
   "execution_count": 3,
   "metadata": {},
   "outputs": [
    {
     "name": "stdout",
     "output_type": "stream",
     "text": [
      "------------------------------------------------------------\n",
      "Average K-Fold Accuracy of KNN: 48.50%\n",
      "Std Dev of K-Fold Accuracy of KNN: 1.28%\n",
      "------------------------------------------------------------\n",
      "------------------------------------------------------------\n",
      "Average K-Fold Accuracy of Random Forest: 48.93%\n",
      "Std Dev of K-Fold Accuracy of Random Forest: 1.07%\n",
      "------------------------------------------------------------\n",
      "Selecting features based on mutual information\n",
      "------------------------------------------------------------\n",
      "Average K-Fold Accuracy of KNN: 47.03%\n",
      "Std Dev of K-Fold Accuracy of KNN: 0.91%\n",
      "------------------------------------------------------------\n",
      "------------------------------------------------------------\n",
      "Average K-Fold Accuracy of Random Forest: 48.13%\n",
      "Std Dev of K-Fold Accuracy of Random Forest: 0.55%\n",
      "------------------------------------------------------------\n"
     ]
    }
   ],
   "source": [
    "t2 = Terminator(\"D:\\shared_git\\MaestriaThesis\\FeaturesTabs\\pp01_t2.csv\")"
   ]
  },
  {
   "cell_type": "code",
   "execution_count": 4,
   "metadata": {},
   "outputs": [
    {
     "name": "stdout",
     "output_type": "stream",
     "text": [
      "------------------------------------------------------------\n",
      "Average K-Fold Accuracy of KNN: 47.69%\n",
      "Std Dev of K-Fold Accuracy of KNN: 1.40%\n",
      "------------------------------------------------------------\n",
      "------------------------------------------------------------\n",
      "Average K-Fold Accuracy of Random Forest: 47.04%\n",
      "Std Dev of K-Fold Accuracy of Random Forest: 0.49%\n",
      "------------------------------------------------------------\n",
      "Selecting features based on mutual information\n",
      "------------------------------------------------------------\n",
      "Average K-Fold Accuracy of KNN: 46.65%\n",
      "Std Dev of K-Fold Accuracy of KNN: 1.08%\n",
      "------------------------------------------------------------\n",
      "------------------------------------------------------------\n",
      "Average K-Fold Accuracy of Random Forest: 46.00%\n",
      "Std Dev of K-Fold Accuracy of Random Forest: 0.91%\n",
      "------------------------------------------------------------\n"
     ]
    }
   ],
   "source": [
    "t3 = Terminator(\"D:\\shared_git\\MaestriaThesis\\FeaturesTabs\\pp01_t3.csv\")"
   ]
  },
  {
   "cell_type": "code",
   "execution_count": 5,
   "metadata": {},
   "outputs": [
    {
     "name": "stdout",
     "output_type": "stream",
     "text": [
      "------------------------------------------------------------\n",
      "Average K-Fold Accuracy of KNN: 33.97%\n",
      "Std Dev of K-Fold Accuracy of KNN: 0.90%\n",
      "------------------------------------------------------------\n",
      "------------------------------------------------------------\n",
      "Average K-Fold Accuracy of Random Forest: 36.53%\n",
      "Std Dev of K-Fold Accuracy of Random Forest: 0.64%\n",
      "------------------------------------------------------------\n",
      "Selecting features based on mutual information\n",
      "------------------------------------------------------------\n",
      "Average K-Fold Accuracy of KNN: 34.72%\n",
      "Std Dev of K-Fold Accuracy of KNN: 1.37%\n",
      "------------------------------------------------------------\n",
      "------------------------------------------------------------\n",
      "Average K-Fold Accuracy of Random Forest: 36.49%\n",
      "Std Dev of K-Fold Accuracy of Random Forest: 0.97%\n",
      "------------------------------------------------------------\n"
     ]
    }
   ],
   "source": [
    "t4 = Terminator(\"D:\\shared_git\\MaestriaThesis\\FeaturesTabs\\pp01_t4.csv\")"
   ]
  },
  {
   "cell_type": "code",
   "execution_count": 6,
   "metadata": {},
   "outputs": [
    {
     "name": "stdout",
     "output_type": "stream",
     "text": [
      "------------------------------------------------------------\n",
      "Average K-Fold Accuracy of KNN: 44.84%\n",
      "Std Dev of K-Fold Accuracy of KNN: 1.54%\n",
      "------------------------------------------------------------\n",
      "------------------------------------------------------------\n",
      "Average K-Fold Accuracy of Random Forest: 47.24%\n",
      "Std Dev of K-Fold Accuracy of Random Forest: 0.24%\n",
      "------------------------------------------------------------\n",
      "Selecting features based on mutual information\n",
      "------------------------------------------------------------\n",
      "Average K-Fold Accuracy of KNN: 42.23%\n",
      "Std Dev of K-Fold Accuracy of KNN: 1.05%\n",
      "------------------------------------------------------------\n",
      "------------------------------------------------------------\n",
      "Average K-Fold Accuracy of Random Forest: 47.58%\n",
      "Std Dev of K-Fold Accuracy of Random Forest: 1.17%\n",
      "------------------------------------------------------------\n"
     ]
    }
   ],
   "source": [
    "t5 = Terminator(\"D:\\shared_git\\MaestriaThesis\\FeaturesTabs\\pp01_t5.csv\")"
   ]
  },
  {
   "cell_type": "code",
   "execution_count": 7,
   "metadata": {},
   "outputs": [
    {
     "name": "stdout",
     "output_type": "stream",
     "text": [
      "------------------------------------------------------------\n",
      "Average K-Fold Accuracy of KNN: 48.04%\n",
      "Std Dev of K-Fold Accuracy of KNN: 1.58%\n",
      "------------------------------------------------------------\n",
      "------------------------------------------------------------\n",
      "Average K-Fold Accuracy of Random Forest: 47.99%\n",
      "Std Dev of K-Fold Accuracy of Random Forest: 1.36%\n",
      "------------------------------------------------------------\n",
      "Selecting features based on mutual information\n",
      "------------------------------------------------------------\n",
      "Average K-Fold Accuracy of KNN: 47.03%\n",
      "Std Dev of K-Fold Accuracy of KNN: 0.77%\n",
      "------------------------------------------------------------\n",
      "------------------------------------------------------------\n",
      "Average K-Fold Accuracy of Random Forest: 45.86%\n",
      "Std Dev of K-Fold Accuracy of Random Forest: 0.64%\n",
      "------------------------------------------------------------\n"
     ]
    }
   ],
   "source": [
    "t6 = Terminator(\"D:\\shared_git\\MaestriaThesis\\FeaturesTabs\\pp01_t6.csv\")"
   ]
  },
  {
   "cell_type": "code",
   "execution_count": 8,
   "metadata": {},
   "outputs": [
    {
     "name": "stdout",
     "output_type": "stream",
     "text": [
      "------------------------------------------------------------\n",
      "Average K-Fold Accuracy of KNN: 35.58%\n",
      "Std Dev of K-Fold Accuracy of KNN: 0.63%\n",
      "------------------------------------------------------------\n",
      "------------------------------------------------------------\n",
      "Average K-Fold Accuracy of Random Forest: 37.50%\n",
      "Std Dev of K-Fold Accuracy of Random Forest: 1.01%\n",
      "------------------------------------------------------------\n",
      "Selecting features based on mutual information\n",
      "------------------------------------------------------------\n",
      "Average K-Fold Accuracy of KNN: 36.02%\n",
      "Std Dev of K-Fold Accuracy of KNN: 0.79%\n",
      "------------------------------------------------------------\n",
      "------------------------------------------------------------\n",
      "Average K-Fold Accuracy of Random Forest: 38.09%\n",
      "Std Dev of K-Fold Accuracy of Random Forest: 1.62%\n",
      "------------------------------------------------------------\n"
     ]
    }
   ],
   "source": [
    "t7 = Terminator(\"D:\\shared_git\\MaestriaThesis\\FeaturesTabs\\pp01_t7.csv\")"
   ]
  },
  {
   "cell_type": "code",
   "execution_count": 9,
   "metadata": {},
   "outputs": [
    {
     "name": "stdout",
     "output_type": "stream",
     "text": [
      "------------------------------------------------------------\n",
      "Average K-Fold Accuracy of KNN: 36.48%\n",
      "Std Dev of K-Fold Accuracy of KNN: 1.05%\n",
      "------------------------------------------------------------\n",
      "------------------------------------------------------------\n",
      "Average K-Fold Accuracy of Random Forest: 36.62%\n",
      "Std Dev of K-Fold Accuracy of Random Forest: 1.06%\n",
      "------------------------------------------------------------\n",
      "Selecting features based on mutual information\n",
      "------------------------------------------------------------\n",
      "Average K-Fold Accuracy of KNN: 36.15%\n",
      "Std Dev of K-Fold Accuracy of KNN: 0.51%\n",
      "------------------------------------------------------------\n",
      "------------------------------------------------------------\n",
      "Average K-Fold Accuracy of Random Forest: 37.07%\n",
      "Std Dev of K-Fold Accuracy of Random Forest: 1.23%\n",
      "------------------------------------------------------------\n"
     ]
    }
   ],
   "source": [
    "t10 = Terminator(\"D:\\shared_git\\MaestriaThesis\\FeaturesTabs\\pp01_t10.csv\")"
   ]
  },
  {
   "cell_type": "code",
   "execution_count": 10,
   "metadata": {},
   "outputs": [
    {
     "name": "stdout",
     "output_type": "stream",
     "text": [
      "------------------------------------------------------------\n",
      "Average K-Fold Accuracy of KNN: 46.67%\n",
      "Std Dev of K-Fold Accuracy of KNN: 0.50%\n",
      "------------------------------------------------------------\n",
      "------------------------------------------------------------\n",
      "Average K-Fold Accuracy of Random Forest: 50.03%\n",
      "Std Dev of K-Fold Accuracy of Random Forest: 0.94%\n",
      "------------------------------------------------------------\n",
      "Selecting features based on mutual information\n",
      "------------------------------------------------------------\n",
      "Average K-Fold Accuracy of KNN: 45.04%\n",
      "Std Dev of K-Fold Accuracy of KNN: 0.72%\n",
      "------------------------------------------------------------\n",
      "------------------------------------------------------------\n",
      "Average K-Fold Accuracy of Random Forest: 48.56%\n",
      "Std Dev of K-Fold Accuracy of Random Forest: 1.40%\n",
      "------------------------------------------------------------\n"
     ]
    }
   ],
   "source": [
    "t11 = Terminator(\"D:\\shared_git\\MaestriaThesis\\FeaturesTabs\\pp01_t11.csv\")"
   ]
  },
  {
   "cell_type": "code",
   "execution_count": 11,
   "metadata": {},
   "outputs": [
    {
     "name": "stdout",
     "output_type": "stream",
     "text": [
      "------------------------------------------------------------\n",
      "Average K-Fold Accuracy of KNN: 51.79%\n",
      "Std Dev of K-Fold Accuracy of KNN: 0.66%\n",
      "------------------------------------------------------------\n",
      "------------------------------------------------------------\n",
      "Average K-Fold Accuracy of Random Forest: 51.21%\n",
      "Std Dev of K-Fold Accuracy of Random Forest: 1.20%\n",
      "------------------------------------------------------------\n",
      "Selecting features based on mutual information\n",
      "------------------------------------------------------------\n",
      "Average K-Fold Accuracy of KNN: 47.38%\n",
      "Std Dev of K-Fold Accuracy of KNN: 1.06%\n",
      "------------------------------------------------------------\n",
      "------------------------------------------------------------\n",
      "Average K-Fold Accuracy of Random Forest: 48.58%\n",
      "Std Dev of K-Fold Accuracy of Random Forest: 0.51%\n",
      "------------------------------------------------------------\n"
     ]
    }
   ],
   "source": [
    "t12 = Terminator(\"D:\\shared_git\\MaestriaThesis\\FeaturesTabs\\pp01_t12.csv\")"
   ]
  },
  {
   "cell_type": "code",
   "execution_count": 1,
   "metadata": {},
   "outputs": [
    {
     "name": "stdout",
     "output_type": "stream",
     "text": [
      "------------------------------------------------------------\n",
      "Average K-Fold Accuracy of KNN: 59.27%\n",
      "Std Dev of K-Fold Accuracy of KNN: 1.60%\n",
      "------------------------------------------------------------\n",
      "------------------------------------------------------------\n",
      "Average K-Fold Accuracy of Random Forest: 69.47%\n",
      "Std Dev of K-Fold Accuracy of Random Forest: 2.30%\n",
      "------------------------------------------------------------\n"
     ]
    },
    {
     "name": "stderr",
     "output_type": "stream",
     "text": [
      "d:\\Softwares\\Minoconda\\envs\\MA\\Lib\\site-packages\\sklearn\\neural_network\\_multilayer_perceptron.py:686: ConvergenceWarning: Stochastic Optimizer: Maximum iterations (200) reached and the optimization hasn't converged yet.\n",
      "  warnings.warn(\n",
      "d:\\Softwares\\Minoconda\\envs\\MA\\Lib\\site-packages\\sklearn\\neural_network\\_multilayer_perceptron.py:686: ConvergenceWarning: Stochastic Optimizer: Maximum iterations (200) reached and the optimization hasn't converged yet.\n",
      "  warnings.warn(\n",
      "d:\\Softwares\\Minoconda\\envs\\MA\\Lib\\site-packages\\sklearn\\neural_network\\_multilayer_perceptron.py:686: ConvergenceWarning: Stochastic Optimizer: Maximum iterations (200) reached and the optimization hasn't converged yet.\n",
      "  warnings.warn(\n",
      "d:\\Softwares\\Minoconda\\envs\\MA\\Lib\\site-packages\\sklearn\\neural_network\\_multilayer_perceptron.py:686: ConvergenceWarning: Stochastic Optimizer: Maximum iterations (200) reached and the optimization hasn't converged yet.\n",
      "  warnings.warn(\n",
      "d:\\Softwares\\Minoconda\\envs\\MA\\Lib\\site-packages\\sklearn\\neural_network\\_multilayer_perceptron.py:686: ConvergenceWarning: Stochastic Optimizer: Maximum iterations (200) reached and the optimization hasn't converged yet.\n",
      "  warnings.warn(\n"
     ]
    },
    {
     "name": "stdout",
     "output_type": "stream",
     "text": [
      "------------------------------------------------------------\n",
      "Average K-Fold Accuracy of MLP: 58.58%\n",
      "Std Dev of K-Fold Accuracy of MLP: 2.25%\n",
      "------------------------------------------------------------\n",
      "------------------------------------------------------------\n",
      "Average K-Fold Accuracy of Naive Bayes: 39.46%\n",
      "Std Dev of K-Fold Accuracy of Naive Bayes: 1.53%\n",
      "------------------------------------------------------------\n",
      "Selecting features based on mutual information\n",
      "------------------------------------------------------------\n",
      "Average K-Fold Accuracy of KNN: 59.60%\n",
      "Std Dev of K-Fold Accuracy of KNN: 1.47%\n",
      "------------------------------------------------------------\n",
      "------------------------------------------------------------\n",
      "Average K-Fold Accuracy of Random Forest: 70.83%\n",
      "Std Dev of K-Fold Accuracy of Random Forest: 1.12%\n",
      "------------------------------------------------------------\n"
     ]
    },
    {
     "name": "stderr",
     "output_type": "stream",
     "text": [
      "d:\\Softwares\\Minoconda\\envs\\MA\\Lib\\site-packages\\sklearn\\neural_network\\_multilayer_perceptron.py:686: ConvergenceWarning: Stochastic Optimizer: Maximum iterations (200) reached and the optimization hasn't converged yet.\n",
      "  warnings.warn(\n",
      "d:\\Softwares\\Minoconda\\envs\\MA\\Lib\\site-packages\\sklearn\\neural_network\\_multilayer_perceptron.py:686: ConvergenceWarning: Stochastic Optimizer: Maximum iterations (200) reached and the optimization hasn't converged yet.\n",
      "  warnings.warn(\n",
      "d:\\Softwares\\Minoconda\\envs\\MA\\Lib\\site-packages\\sklearn\\neural_network\\_multilayer_perceptron.py:686: ConvergenceWarning: Stochastic Optimizer: Maximum iterations (200) reached and the optimization hasn't converged yet.\n",
      "  warnings.warn(\n",
      "d:\\Softwares\\Minoconda\\envs\\MA\\Lib\\site-packages\\sklearn\\neural_network\\_multilayer_perceptron.py:686: ConvergenceWarning: Stochastic Optimizer: Maximum iterations (200) reached and the optimization hasn't converged yet.\n",
      "  warnings.warn(\n",
      "d:\\Softwares\\Minoconda\\envs\\MA\\Lib\\site-packages\\sklearn\\neural_network\\_multilayer_perceptron.py:686: ConvergenceWarning: Stochastic Optimizer: Maximum iterations (200) reached and the optimization hasn't converged yet.\n",
      "  warnings.warn(\n"
     ]
    },
    {
     "name": "stdout",
     "output_type": "stream",
     "text": [
      "------------------------------------------------------------\n",
      "Average K-Fold Accuracy of MLP: 57.53%\n",
      "Std Dev of K-Fold Accuracy of MLP: 1.19%\n",
      "------------------------------------------------------------\n",
      "------------------------------------------------------------\n",
      "Average K-Fold Accuracy of Naive Bayes: 38.89%\n",
      "Std Dev of K-Fold Accuracy of Naive Bayes: 1.02%\n",
      "------------------------------------------------------------\n",
      "Selected features based on FDR values higher then median\n",
      "------------------------------------------------------------\n",
      "Average K-Fold Accuracy of KNN: 57.42%\n",
      "Std Dev of K-Fold Accuracy of KNN: 1.56%\n",
      "------------------------------------------------------------\n",
      "------------------------------------------------------------\n",
      "Average K-Fold Accuracy of Random Forest: 69.04%\n",
      "Std Dev of K-Fold Accuracy of Random Forest: 1.10%\n",
      "------------------------------------------------------------\n"
     ]
    },
    {
     "name": "stderr",
     "output_type": "stream",
     "text": [
      "d:\\Softwares\\Minoconda\\envs\\MA\\Lib\\site-packages\\sklearn\\neural_network\\_multilayer_perceptron.py:686: ConvergenceWarning: Stochastic Optimizer: Maximum iterations (200) reached and the optimization hasn't converged yet.\n",
      "  warnings.warn(\n",
      "d:\\Softwares\\Minoconda\\envs\\MA\\Lib\\site-packages\\sklearn\\neural_network\\_multilayer_perceptron.py:686: ConvergenceWarning: Stochastic Optimizer: Maximum iterations (200) reached and the optimization hasn't converged yet.\n",
      "  warnings.warn(\n",
      "d:\\Softwares\\Minoconda\\envs\\MA\\Lib\\site-packages\\sklearn\\neural_network\\_multilayer_perceptron.py:686: ConvergenceWarning: Stochastic Optimizer: Maximum iterations (200) reached and the optimization hasn't converged yet.\n",
      "  warnings.warn(\n",
      "d:\\Softwares\\Minoconda\\envs\\MA\\Lib\\site-packages\\sklearn\\neural_network\\_multilayer_perceptron.py:686: ConvergenceWarning: Stochastic Optimizer: Maximum iterations (200) reached and the optimization hasn't converged yet.\n",
      "  warnings.warn(\n"
     ]
    },
    {
     "name": "stdout",
     "output_type": "stream",
     "text": [
      "------------------------------------------------------------\n",
      "Average K-Fold Accuracy of MLP: 56.41%\n",
      "Std Dev of K-Fold Accuracy of MLP: 1.33%\n",
      "------------------------------------------------------------\n",
      "------------------------------------------------------------\n",
      "Average K-Fold Accuracy of Naive Bayes: 39.80%\n",
      "Std Dev of K-Fold Accuracy of Naive Bayes: 1.14%\n",
      "------------------------------------------------------------\n"
     ]
    },
    {
     "name": "stderr",
     "output_type": "stream",
     "text": [
      "d:\\Softwares\\Minoconda\\envs\\MA\\Lib\\site-packages\\sklearn\\neural_network\\_multilayer_perceptron.py:686: ConvergenceWarning: Stochastic Optimizer: Maximum iterations (200) reached and the optimization hasn't converged yet.\n",
      "  warnings.warn(\n"
     ]
    }
   ],
   "source": [
    "from Terminator import Terminator\n",
    "t13 = Terminator(\"D:\\shared_git\\MaestriaThesis\\FeaturesTabs\\pp01_t13.csv\", Hyperparam = False)"
   ]
  },
  {
   "cell_type": "code",
   "execution_count": 1,
   "metadata": {},
   "outputs": [
    {
     "name": "stdout",
     "output_type": "stream",
     "text": [
      "------------------------------------------------------------\n",
      "Average K-Fold Accuracy of KNN: 59.27%\n",
      "Std Dev of K-Fold Accuracy of KNN: 1.60%\n",
      "------------------------------------------------------------\n",
      "------------------------------------------------------------\n",
      "Average K-Fold Accuracy of Random Forest: 69.47%\n",
      "Std Dev of K-Fold Accuracy of Random Forest: 2.30%\n",
      "------------------------------------------------------------\n"
     ]
    },
    {
     "name": "stderr",
     "output_type": "stream",
     "text": [
      "d:\\Softwares\\Minoconda\\envs\\MA\\Lib\\site-packages\\sklearn\\neural_network\\_multilayer_perceptron.py:686: ConvergenceWarning: Stochastic Optimizer: Maximum iterations (200) reached and the optimization hasn't converged yet.\n",
      "  warnings.warn(\n",
      "d:\\Softwares\\Minoconda\\envs\\MA\\Lib\\site-packages\\sklearn\\neural_network\\_multilayer_perceptron.py:686: ConvergenceWarning: Stochastic Optimizer: Maximum iterations (200) reached and the optimization hasn't converged yet.\n",
      "  warnings.warn(\n",
      "d:\\Softwares\\Minoconda\\envs\\MA\\Lib\\site-packages\\sklearn\\neural_network\\_multilayer_perceptron.py:686: ConvergenceWarning: Stochastic Optimizer: Maximum iterations (200) reached and the optimization hasn't converged yet.\n",
      "  warnings.warn(\n",
      "d:\\Softwares\\Minoconda\\envs\\MA\\Lib\\site-packages\\sklearn\\neural_network\\_multilayer_perceptron.py:686: ConvergenceWarning: Stochastic Optimizer: Maximum iterations (200) reached and the optimization hasn't converged yet.\n",
      "  warnings.warn(\n",
      "d:\\Softwares\\Minoconda\\envs\\MA\\Lib\\site-packages\\sklearn\\neural_network\\_multilayer_perceptron.py:686: ConvergenceWarning: Stochastic Optimizer: Maximum iterations (200) reached and the optimization hasn't converged yet.\n",
      "  warnings.warn(\n"
     ]
    },
    {
     "name": "stdout",
     "output_type": "stream",
     "text": [
      "------------------------------------------------------------\n",
      "Average K-Fold Accuracy of MLP: 58.58%\n",
      "Std Dev of K-Fold Accuracy of MLP: 2.25%\n",
      "------------------------------------------------------------\n",
      "------------------------------------------------------------\n",
      "Average K-Fold Accuracy of Naive Bayes: 39.46%\n",
      "Std Dev of K-Fold Accuracy of Naive Bayes: 1.53%\n",
      "------------------------------------------------------------\n",
      "Selecting features based on mutual information\n",
      "Number of principal components selected: 28\n",
      "------------------------------------------------------------\n",
      "Average K-Fold Accuracy of KNN: 55.37%\n",
      "Std Dev of K-Fold Accuracy of KNN: 1.24%\n",
      "------------------------------------------------------------\n",
      "------------------------------------------------------------\n",
      "Average K-Fold Accuracy of Random Forest: 58.33%\n",
      "Std Dev of K-Fold Accuracy of Random Forest: 1.04%\n",
      "------------------------------------------------------------\n"
     ]
    },
    {
     "name": "stderr",
     "output_type": "stream",
     "text": [
      "d:\\Softwares\\Minoconda\\envs\\MA\\Lib\\site-packages\\sklearn\\neural_network\\_multilayer_perceptron.py:686: ConvergenceWarning: Stochastic Optimizer: Maximum iterations (200) reached and the optimization hasn't converged yet.\n",
      "  warnings.warn(\n",
      "d:\\Softwares\\Minoconda\\envs\\MA\\Lib\\site-packages\\sklearn\\neural_network\\_multilayer_perceptron.py:686: ConvergenceWarning: Stochastic Optimizer: Maximum iterations (200) reached and the optimization hasn't converged yet.\n",
      "  warnings.warn(\n",
      "d:\\Softwares\\Minoconda\\envs\\MA\\Lib\\site-packages\\sklearn\\neural_network\\_multilayer_perceptron.py:686: ConvergenceWarning: Stochastic Optimizer: Maximum iterations (200) reached and the optimization hasn't converged yet.\n",
      "  warnings.warn(\n",
      "d:\\Softwares\\Minoconda\\envs\\MA\\Lib\\site-packages\\sklearn\\neural_network\\_multilayer_perceptron.py:686: ConvergenceWarning: Stochastic Optimizer: Maximum iterations (200) reached and the optimization hasn't converged yet.\n",
      "  warnings.warn(\n",
      "d:\\Softwares\\Minoconda\\envs\\MA\\Lib\\site-packages\\sklearn\\neural_network\\_multilayer_perceptron.py:686: ConvergenceWarning: Stochastic Optimizer: Maximum iterations (200) reached and the optimization hasn't converged yet.\n",
      "  warnings.warn(\n"
     ]
    },
    {
     "name": "stdout",
     "output_type": "stream",
     "text": [
      "------------------------------------------------------------\n",
      "Average K-Fold Accuracy of MLP: 48.66%\n",
      "Std Dev of K-Fold Accuracy of MLP: 0.75%\n",
      "------------------------------------------------------------\n",
      "------------------------------------------------------------\n",
      "Average K-Fold Accuracy of Naive Bayes: 37.31%\n",
      "Std Dev of K-Fold Accuracy of Naive Bayes: 1.20%\n",
      "------------------------------------------------------------\n",
      "Selected features based on FDR values higher then median\n",
      "Number of principal components selected: 25\n",
      "------------------------------------------------------------\n",
      "Average K-Fold Accuracy of KNN: 52.49%\n",
      "Std Dev of K-Fold Accuracy of KNN: 1.04%\n",
      "------------------------------------------------------------\n",
      "------------------------------------------------------------\n",
      "Average K-Fold Accuracy of Random Forest: 56.95%\n",
      "Std Dev of K-Fold Accuracy of Random Forest: 1.64%\n",
      "------------------------------------------------------------\n"
     ]
    },
    {
     "name": "stderr",
     "output_type": "stream",
     "text": [
      "d:\\Softwares\\Minoconda\\envs\\MA\\Lib\\site-packages\\sklearn\\neural_network\\_multilayer_perceptron.py:686: ConvergenceWarning: Stochastic Optimizer: Maximum iterations (200) reached and the optimization hasn't converged yet.\n",
      "  warnings.warn(\n",
      "d:\\Softwares\\Minoconda\\envs\\MA\\Lib\\site-packages\\sklearn\\neural_network\\_multilayer_perceptron.py:686: ConvergenceWarning: Stochastic Optimizer: Maximum iterations (200) reached and the optimization hasn't converged yet.\n",
      "  warnings.warn(\n",
      "d:\\Softwares\\Minoconda\\envs\\MA\\Lib\\site-packages\\sklearn\\neural_network\\_multilayer_perceptron.py:686: ConvergenceWarning: Stochastic Optimizer: Maximum iterations (200) reached and the optimization hasn't converged yet.\n",
      "  warnings.warn(\n",
      "d:\\Softwares\\Minoconda\\envs\\MA\\Lib\\site-packages\\sklearn\\neural_network\\_multilayer_perceptron.py:686: ConvergenceWarning: Stochastic Optimizer: Maximum iterations (200) reached and the optimization hasn't converged yet.\n",
      "  warnings.warn(\n"
     ]
    },
    {
     "name": "stdout",
     "output_type": "stream",
     "text": [
      "------------------------------------------------------------\n",
      "Average K-Fold Accuracy of MLP: 49.64%\n",
      "Std Dev of K-Fold Accuracy of MLP: 1.43%\n",
      "------------------------------------------------------------\n",
      "------------------------------------------------------------\n",
      "Average K-Fold Accuracy of Naive Bayes: 38.49%\n",
      "Std Dev of K-Fold Accuracy of Naive Bayes: 1.76%\n",
      "------------------------------------------------------------\n"
     ]
    },
    {
     "name": "stderr",
     "output_type": "stream",
     "text": [
      "d:\\Softwares\\Minoconda\\envs\\MA\\Lib\\site-packages\\sklearn\\neural_network\\_multilayer_perceptron.py:686: ConvergenceWarning: Stochastic Optimizer: Maximum iterations (200) reached and the optimization hasn't converged yet.\n",
      "  warnings.warn(\n"
     ]
    }
   ],
   "source": [
    "from Terminator import Terminator\n",
    "t13 = Terminator(\"D:\\shared_git\\MaestriaThesis\\FeaturesTabs\\pp01_t13.csv\", Hyperparam = False)"
   ]
  },
  {
   "cell_type": "markdown",
   "metadata": {},
   "source": [
    "### DWT decomp relative energy"
   ]
  },
  {
   "cell_type": "code",
   "execution_count": 1,
   "metadata": {},
   "outputs": [
    {
     "name": "stdout",
     "output_type": "stream",
     "text": [
      "------------------------------------------------------------\n",
      "Average K-Fold Accuracy of KNN: 59.27%\n",
      "Std Dev of K-Fold Accuracy of KNN: 1.60%\n",
      "------------------------------------------------------------\n",
      "------------------------------------------------------------\n",
      "Average K-Fold Accuracy of Random Forest: 69.47%\n",
      "Std Dev of K-Fold Accuracy of Random Forest: 2.30%\n",
      "------------------------------------------------------------\n",
      "Selecting features based on mutual information\n",
      "------------------------------------------------------------\n",
      "Average K-Fold Accuracy of KNN: 59.60%\n",
      "Std Dev of K-Fold Accuracy of KNN: 1.47%\n",
      "------------------------------------------------------------\n",
      "------------------------------------------------------------\n",
      "Average K-Fold Accuracy of Random Forest: 70.83%\n",
      "Std Dev of K-Fold Accuracy of Random Forest: 1.12%\n",
      "------------------------------------------------------------\n",
      "Computing Hyperparametrization of random forest classifier \n",
      "Best parameters for Random Forest: {'max_depth': 30, 'max_features': 'sqrt', 'min_samples_leaf': 1, 'min_samples_split': 2, 'n_estimators': 200}\n",
      "Best cross-validation accuracy: 69.80%\n",
      "------------------------------------------------------------\n",
      "Accuracy of Random Forest: 72.32%\n",
      "             Air       Vib      Caress  \n",
      "Air         71.10      9.35     19.55   \n",
      "Vib          6.38     75.00     18.62   \n",
      "Caress      12.89     16.53     70.59   \n",
      "------------------------------------------------------------\n",
      "Computing Hyperparametrization of KNN classifier \n",
      "Best parameters: {'algorithm': 'auto', 'leaf_size': 20, 'n_neighbors': 15, 'p': 1, 'weights': 'distance'}\n",
      "Best cross-validation accuracy: 58.10%\n",
      "------------------------------------------------------------\n",
      "Accuracy of KNN: 60.62%\n",
      "             Air       Vib      Caress  \n",
      "Air         58.07     10.76     31.16   \n",
      "Vib         12.76     62.76     24.49   \n",
      "Caress      16.81     22.41     60.78   \n",
      "------------------------------------------------------------\n"
     ]
    }
   ],
   "source": [
    "from Terminator import Terminator\n",
    "t13 = Terminator(\"D:\\shared_git\\MaestriaThesis\\FeaturesTabs\\pp01_t13.csv\", Hyperparam = True)"
   ]
  },
  {
   "cell_type": "code",
   "execution_count": 12,
   "metadata": {},
   "outputs": [
    {
     "ename": "TypeError",
     "evalue": "'<' not supported between instances of 'int' and 'str'",
     "output_type": "error",
     "traceback": [
      "\u001b[1;31m---------------------------------------------------------------------------\u001b[0m",
      "\u001b[1;31mTypeError\u001b[0m                                 Traceback (most recent call last)",
      "Cell \u001b[1;32mIn[12], line 2\u001b[0m\n\u001b[0;32m      1\u001b[0m \u001b[38;5;28;01mfrom\u001b[39;00m \u001b[38;5;21;01mTerminator\u001b[39;00m \u001b[38;5;28;01mimport\u001b[39;00m Terminator\n\u001b[1;32m----> 2\u001b[0m t13 \u001b[38;5;241m=\u001b[39m \u001b[43mTerminator\u001b[49m\u001b[43m(\u001b[49m\u001b[38;5;124;43m\"\u001b[39;49m\u001b[38;5;124;43mD:\u001b[39;49m\u001b[38;5;124;43m\\\u001b[39;49m\u001b[38;5;124;43mshared_git\u001b[39;49m\u001b[38;5;124;43m\\\u001b[39;49m\u001b[38;5;124;43mMaestriaThesis\u001b[39;49m\u001b[38;5;124;43m\\\u001b[39;49m\u001b[38;5;124;43mFeaturesTabs\u001b[39;49m\u001b[38;5;124;43m\\\u001b[39;49m\u001b[38;5;124;43mpp01_t13.csv\u001b[39;49m\u001b[38;5;124;43m\"\u001b[39;49m\u001b[43m,\u001b[49m\u001b[43m \u001b[49m\u001b[43mHyperparam\u001b[49m\u001b[43m \u001b[49m\u001b[38;5;241;43m=\u001b[39;49m\u001b[43m \u001b[49m\u001b[38;5;28;43;01mFalse\u001b[39;49;00m\u001b[43m,\u001b[49m\u001b[43m \u001b[49m\u001b[43mlabels\u001b[49m\u001b[43m \u001b[49m\u001b[38;5;241;43m=\u001b[39;49m\u001b[43m \u001b[49m\u001b[43m[\u001b[49m\u001b[38;5;241;43m2\u001b[39;49m\u001b[43m,\u001b[49m\u001b[38;5;241;43m7\u001b[39;49m\u001b[43m]\u001b[49m\u001b[43m,\u001b[49m\u001b[43m \u001b[49m\u001b[43mnames\u001b[49m\u001b[43m \u001b[49m\u001b[38;5;241;43m=\u001b[39;49m\u001b[43m \u001b[49m\u001b[43m[\u001b[49m\u001b[38;5;124;43m'\u001b[39;49m\u001b[38;5;124;43mAir\u001b[39;49m\u001b[38;5;124;43m'\u001b[39;49m\u001b[43m,\u001b[49m\u001b[38;5;124;43m'\u001b[39;49m\u001b[38;5;124;43mCar\u001b[39;49m\u001b[38;5;124;43m'\u001b[39;49m\u001b[43m]\u001b[49m\u001b[43m)\u001b[49m\n",
      "File \u001b[1;32md:\\shared_git\\MasterThesis\\scripts\\Processing\\classification\\Terminator.py:43\u001b[0m, in \u001b[0;36mTerminator.__init__\u001b[1;34m(self, filename, feature_select, Hyperparam, method, labels, names)\u001b[0m\n\u001b[0;32m     39\u001b[0m \u001b[38;5;66;03m#if method == 'dwt':\u001b[39;00m\n\u001b[0;32m     40\u001b[0m \u001b[38;5;66;03m#   self.concatenate_data_and_labels_dwt()\u001b[39;00m\n\u001b[0;32m     41\u001b[0m \u001b[38;5;28mself\u001b[39m\u001b[38;5;241m.\u001b[39mX_train, \u001b[38;5;28mself\u001b[39m\u001b[38;5;241m.\u001b[39mX_test, \u001b[38;5;28mself\u001b[39m\u001b[38;5;241m.\u001b[39my_train, \u001b[38;5;28mself\u001b[39m\u001b[38;5;241m.\u001b[39my_test \u001b[38;5;241m=\u001b[39m train_test_split(\u001b[38;5;28mself\u001b[39m\u001b[38;5;241m.\u001b[39mdata_array, \u001b[38;5;28mself\u001b[39m\u001b[38;5;241m.\u001b[39mclass_labels, test_size\u001b[38;5;241m=\u001b[39m\u001b[38;5;241m0.2\u001b[39m, random_state\u001b[38;5;241m=\u001b[39m\u001b[38;5;241m42\u001b[39m)\n\u001b[1;32m---> 43\u001b[0m \u001b[38;5;28;43mself\u001b[39;49m\u001b[38;5;241;43m.\u001b[39;49m\u001b[43mKNN_train\u001b[49m\u001b[43m(\u001b[49m\u001b[43mvalidation\u001b[49m\u001b[38;5;241;43m=\u001b[39;49m\u001b[38;5;124;43m'\u001b[39;49m\u001b[38;5;124;43mkfold\u001b[39;49m\u001b[38;5;124;43m'\u001b[39;49m\u001b[43m)\u001b[49m\n\u001b[0;32m     44\u001b[0m \u001b[38;5;28mself\u001b[39m\u001b[38;5;241m.\u001b[39mRForest_train(validation\u001b[38;5;241m=\u001b[39m\u001b[38;5;124m'\u001b[39m\u001b[38;5;124mkfold\u001b[39m\u001b[38;5;124m'\u001b[39m)\n\u001b[0;32m     46\u001b[0m \u001b[38;5;66;03m#if feature_select == 'entropy': \u001b[39;00m\n",
      "File \u001b[1;32md:\\shared_git\\MasterThesis\\scripts\\Processing\\classification\\Terminator.py:223\u001b[0m, in \u001b[0;36mTerminator.KNN_train\u001b[1;34m(self, n_neighbors, p, weights, leaf_size, algorithm, validation, n_splits)\u001b[0m\n\u001b[0;32m    221\u001b[0m     \u001b[38;5;28mprint\u001b[39m(\u001b[38;5;124mf\u001b[39m\u001b[38;5;124m\"\u001b[39m\u001b[38;5;124m------------------------------------------------------------\u001b[39m\u001b[38;5;124m\"\u001b[39m)\n\u001b[0;32m    222\u001b[0m \u001b[38;5;28;01melif\u001b[39;00m validation \u001b[38;5;241m==\u001b[39m \u001b[38;5;124m'\u001b[39m\u001b[38;5;124mkfold\u001b[39m\u001b[38;5;124m'\u001b[39m:\n\u001b[1;32m--> 223\u001b[0m     accuracies \u001b[38;5;241m=\u001b[39m \u001b[43mcross_val_score\u001b[49m\u001b[43m(\u001b[49m\u001b[43mknn_model\u001b[49m\u001b[43m,\u001b[49m\u001b[43m \u001b[49m\u001b[43mnp\u001b[49m\u001b[38;5;241;43m.\u001b[39;49m\u001b[43mvstack\u001b[49m\u001b[43m(\u001b[49m\u001b[43m(\u001b[49m\u001b[38;5;28;43mself\u001b[39;49m\u001b[38;5;241;43m.\u001b[39;49m\u001b[43mX_train\u001b[49m\u001b[43m,\u001b[49m\u001b[43m \u001b[49m\u001b[38;5;28;43mself\u001b[39;49m\u001b[38;5;241;43m.\u001b[39;49m\u001b[43mX_test\u001b[49m\u001b[43m)\u001b[49m\u001b[43m)\u001b[49m\u001b[43m,\u001b[49m\u001b[43m \u001b[49m\u001b[43mnp\u001b[49m\u001b[38;5;241;43m.\u001b[39;49m\u001b[43mconcatenate\u001b[49m\u001b[43m(\u001b[49m\u001b[43m(\u001b[49m\u001b[38;5;28;43mself\u001b[39;49m\u001b[38;5;241;43m.\u001b[39;49m\u001b[43my_train\u001b[49m\u001b[43m,\u001b[49m\u001b[43m \u001b[49m\u001b[38;5;28;43mself\u001b[39;49m\u001b[38;5;241;43m.\u001b[39;49m\u001b[43my_test\u001b[49m\u001b[43m)\u001b[49m\u001b[43m)\u001b[49m\u001b[43m,\u001b[49m\u001b[43m \u001b[49m\u001b[43mcv\u001b[49m\u001b[38;5;241;43m=\u001b[39;49m\u001b[43mn_splits\u001b[49m\u001b[43m,\u001b[49m\u001b[43m \u001b[49m\u001b[43mscoring\u001b[49m\u001b[38;5;241;43m=\u001b[39;49m\u001b[38;5;124;43m'\u001b[39;49m\u001b[38;5;124;43maccuracy\u001b[39;49m\u001b[38;5;124;43m'\u001b[39;49m\u001b[43m)\u001b[49m\n\u001b[0;32m    224\u001b[0m     \u001b[38;5;28mprint\u001b[39m(\u001b[38;5;124mf\u001b[39m\u001b[38;5;124m\"\u001b[39m\u001b[38;5;124m------------------------------------------------------------\u001b[39m\u001b[38;5;124m\"\u001b[39m)\n\u001b[0;32m    225\u001b[0m     \u001b[38;5;28mprint\u001b[39m(\u001b[38;5;124mf\u001b[39m\u001b[38;5;124m\"\u001b[39m\u001b[38;5;124mAverage K-Fold Accuracy of KNN: \u001b[39m\u001b[38;5;132;01m{\u001b[39;00maccuracies\u001b[38;5;241m.\u001b[39mmean()\u001b[38;5;250m \u001b[39m\u001b[38;5;241m*\u001b[39m\u001b[38;5;250m \u001b[39m\u001b[38;5;241m100\u001b[39m\u001b[38;5;132;01m:\u001b[39;00m\u001b[38;5;124m.2f\u001b[39m\u001b[38;5;132;01m}\u001b[39;00m\u001b[38;5;124m%\u001b[39m\u001b[38;5;124m\"\u001b[39m)\n",
      "File \u001b[1;32md:\\Softwares\\Minoconda\\envs\\MA\\Lib\\site-packages\\sklearn\\model_selection\\_validation.py:515\u001b[0m, in \u001b[0;36mcross_val_score\u001b[1;34m(estimator, X, y, groups, scoring, cv, n_jobs, verbose, fit_params, pre_dispatch, error_score)\u001b[0m\n\u001b[0;32m    512\u001b[0m \u001b[38;5;66;03m# To ensure multimetric format is not supported\u001b[39;00m\n\u001b[0;32m    513\u001b[0m scorer \u001b[38;5;241m=\u001b[39m check_scoring(estimator, scoring\u001b[38;5;241m=\u001b[39mscoring)\n\u001b[1;32m--> 515\u001b[0m cv_results \u001b[38;5;241m=\u001b[39m \u001b[43mcross_validate\u001b[49m\u001b[43m(\u001b[49m\n\u001b[0;32m    516\u001b[0m \u001b[43m    \u001b[49m\u001b[43mestimator\u001b[49m\u001b[38;5;241;43m=\u001b[39;49m\u001b[43mestimator\u001b[49m\u001b[43m,\u001b[49m\n\u001b[0;32m    517\u001b[0m \u001b[43m    \u001b[49m\u001b[43mX\u001b[49m\u001b[38;5;241;43m=\u001b[39;49m\u001b[43mX\u001b[49m\u001b[43m,\u001b[49m\n\u001b[0;32m    518\u001b[0m \u001b[43m    \u001b[49m\u001b[43my\u001b[49m\u001b[38;5;241;43m=\u001b[39;49m\u001b[43my\u001b[49m\u001b[43m,\u001b[49m\n\u001b[0;32m    519\u001b[0m \u001b[43m    \u001b[49m\u001b[43mgroups\u001b[49m\u001b[38;5;241;43m=\u001b[39;49m\u001b[43mgroups\u001b[49m\u001b[43m,\u001b[49m\n\u001b[0;32m    520\u001b[0m \u001b[43m    \u001b[49m\u001b[43mscoring\u001b[49m\u001b[38;5;241;43m=\u001b[39;49m\u001b[43m{\u001b[49m\u001b[38;5;124;43m\"\u001b[39;49m\u001b[38;5;124;43mscore\u001b[39;49m\u001b[38;5;124;43m\"\u001b[39;49m\u001b[43m:\u001b[49m\u001b[43m \u001b[49m\u001b[43mscorer\u001b[49m\u001b[43m}\u001b[49m\u001b[43m,\u001b[49m\n\u001b[0;32m    521\u001b[0m \u001b[43m    \u001b[49m\u001b[43mcv\u001b[49m\u001b[38;5;241;43m=\u001b[39;49m\u001b[43mcv\u001b[49m\u001b[43m,\u001b[49m\n\u001b[0;32m    522\u001b[0m \u001b[43m    \u001b[49m\u001b[43mn_jobs\u001b[49m\u001b[38;5;241;43m=\u001b[39;49m\u001b[43mn_jobs\u001b[49m\u001b[43m,\u001b[49m\n\u001b[0;32m    523\u001b[0m \u001b[43m    \u001b[49m\u001b[43mverbose\u001b[49m\u001b[38;5;241;43m=\u001b[39;49m\u001b[43mverbose\u001b[49m\u001b[43m,\u001b[49m\n\u001b[0;32m    524\u001b[0m \u001b[43m    \u001b[49m\u001b[43mfit_params\u001b[49m\u001b[38;5;241;43m=\u001b[39;49m\u001b[43mfit_params\u001b[49m\u001b[43m,\u001b[49m\n\u001b[0;32m    525\u001b[0m \u001b[43m    \u001b[49m\u001b[43mpre_dispatch\u001b[49m\u001b[38;5;241;43m=\u001b[39;49m\u001b[43mpre_dispatch\u001b[49m\u001b[43m,\u001b[49m\n\u001b[0;32m    526\u001b[0m \u001b[43m    \u001b[49m\u001b[43merror_score\u001b[49m\u001b[38;5;241;43m=\u001b[39;49m\u001b[43merror_score\u001b[49m\u001b[43m,\u001b[49m\n\u001b[0;32m    527\u001b[0m \u001b[43m\u001b[49m\u001b[43m)\u001b[49m\n\u001b[0;32m    528\u001b[0m \u001b[38;5;28;01mreturn\u001b[39;00m cv_results[\u001b[38;5;124m\"\u001b[39m\u001b[38;5;124mtest_score\u001b[39m\u001b[38;5;124m\"\u001b[39m]\n",
      "File \u001b[1;32md:\\Softwares\\Minoconda\\envs\\MA\\Lib\\site-packages\\sklearn\\model_selection\\_validation.py:254\u001b[0m, in \u001b[0;36mcross_validate\u001b[1;34m(estimator, X, y, groups, scoring, cv, n_jobs, verbose, fit_params, pre_dispatch, return_train_score, return_estimator, error_score)\u001b[0m\n\u001b[0;32m     65\u001b[0m \u001b[38;5;250m\u001b[39m\u001b[38;5;124;03m\"\"\"Evaluate metric(s) by cross-validation and also record fit/score times.\u001b[39;00m\n\u001b[0;32m     66\u001b[0m \n\u001b[0;32m     67\u001b[0m \u001b[38;5;124;03mRead more in the :ref:`User Guide <multimetric_cross_validation>`.\u001b[39;00m\n\u001b[1;32m   (...)\u001b[0m\n\u001b[0;32m    250\u001b[0m \u001b[38;5;124;03m[0.28009951 0.3908844  0.22784907]\u001b[39;00m\n\u001b[0;32m    251\u001b[0m \u001b[38;5;124;03m\"\"\"\u001b[39;00m\n\u001b[0;32m    252\u001b[0m X, y, groups \u001b[38;5;241m=\u001b[39m indexable(X, y, groups)\n\u001b[1;32m--> 254\u001b[0m cv \u001b[38;5;241m=\u001b[39m \u001b[43mcheck_cv\u001b[49m\u001b[43m(\u001b[49m\u001b[43mcv\u001b[49m\u001b[43m,\u001b[49m\u001b[43m \u001b[49m\u001b[43my\u001b[49m\u001b[43m,\u001b[49m\u001b[43m \u001b[49m\u001b[43mclassifier\u001b[49m\u001b[38;5;241;43m=\u001b[39;49m\u001b[43mis_classifier\u001b[49m\u001b[43m(\u001b[49m\u001b[43mestimator\u001b[49m\u001b[43m)\u001b[49m\u001b[43m)\u001b[49m\n\u001b[0;32m    256\u001b[0m \u001b[38;5;28;01mif\u001b[39;00m \u001b[38;5;28mcallable\u001b[39m(scoring):\n\u001b[0;32m    257\u001b[0m     scorers \u001b[38;5;241m=\u001b[39m scoring\n",
      "File \u001b[1;32md:\\Softwares\\Minoconda\\envs\\MA\\Lib\\site-packages\\sklearn\\model_selection\\_split.py:2445\u001b[0m, in \u001b[0;36mcheck_cv\u001b[1;34m(cv, y, classifier)\u001b[0m\n\u001b[0;32m   2440\u001b[0m cv \u001b[38;5;241m=\u001b[39m \u001b[38;5;241m5\u001b[39m \u001b[38;5;28;01mif\u001b[39;00m cv \u001b[38;5;129;01mis\u001b[39;00m \u001b[38;5;28;01mNone\u001b[39;00m \u001b[38;5;28;01melse\u001b[39;00m cv\n\u001b[0;32m   2441\u001b[0m \u001b[38;5;28;01mif\u001b[39;00m \u001b[38;5;28misinstance\u001b[39m(cv, numbers\u001b[38;5;241m.\u001b[39mIntegral):\n\u001b[0;32m   2442\u001b[0m     \u001b[38;5;28;01mif\u001b[39;00m (\n\u001b[0;32m   2443\u001b[0m         classifier\n\u001b[0;32m   2444\u001b[0m         \u001b[38;5;129;01mand\u001b[39;00m (y \u001b[38;5;129;01mis\u001b[39;00m \u001b[38;5;129;01mnot\u001b[39;00m \u001b[38;5;28;01mNone\u001b[39;00m)\n\u001b[1;32m-> 2445\u001b[0m         \u001b[38;5;129;01mand\u001b[39;00m (\u001b[43mtype_of_target\u001b[49m\u001b[43m(\u001b[49m\u001b[43my\u001b[49m\u001b[43m,\u001b[49m\u001b[43m \u001b[49m\u001b[43minput_name\u001b[49m\u001b[38;5;241;43m=\u001b[39;49m\u001b[38;5;124;43m\"\u001b[39;49m\u001b[38;5;124;43my\u001b[39;49m\u001b[38;5;124;43m\"\u001b[39;49m\u001b[43m)\u001b[49m \u001b[38;5;129;01min\u001b[39;00m (\u001b[38;5;124m\"\u001b[39m\u001b[38;5;124mbinary\u001b[39m\u001b[38;5;124m\"\u001b[39m, \u001b[38;5;124m\"\u001b[39m\u001b[38;5;124mmulticlass\u001b[39m\u001b[38;5;124m\"\u001b[39m))\n\u001b[0;32m   2446\u001b[0m     ):\n\u001b[0;32m   2447\u001b[0m         \u001b[38;5;28;01mreturn\u001b[39;00m StratifiedKFold(cv)\n\u001b[0;32m   2448\u001b[0m     \u001b[38;5;28;01melse\u001b[39;00m:\n",
      "File \u001b[1;32md:\\Softwares\\Minoconda\\envs\\MA\\Lib\\site-packages\\sklearn\\utils\\multiclass.py:386\u001b[0m, in \u001b[0;36mtype_of_target\u001b[1;34m(y, input_name)\u001b[0m\n\u001b[0;32m    384\u001b[0m \u001b[38;5;66;03m# Check multiclass\u001b[39;00m\n\u001b[0;32m    385\u001b[0m first_row \u001b[38;5;241m=\u001b[39m y[\u001b[38;5;241m0\u001b[39m] \u001b[38;5;28;01mif\u001b[39;00m \u001b[38;5;129;01mnot\u001b[39;00m issparse(y) \u001b[38;5;28;01melse\u001b[39;00m y\u001b[38;5;241m.\u001b[39mgetrow(\u001b[38;5;241m0\u001b[39m)\u001b[38;5;241m.\u001b[39mdata\n\u001b[1;32m--> 386\u001b[0m \u001b[38;5;28;01mif\u001b[39;00m \u001b[43mxp\u001b[49m\u001b[38;5;241;43m.\u001b[39;49m\u001b[43munique_values\u001b[49m\u001b[43m(\u001b[49m\u001b[43my\u001b[49m\u001b[43m)\u001b[49m\u001b[38;5;241m.\u001b[39mshape[\u001b[38;5;241m0\u001b[39m] \u001b[38;5;241m>\u001b[39m \u001b[38;5;241m2\u001b[39m \u001b[38;5;129;01mor\u001b[39;00m (y\u001b[38;5;241m.\u001b[39mndim \u001b[38;5;241m==\u001b[39m \u001b[38;5;241m2\u001b[39m \u001b[38;5;129;01mand\u001b[39;00m \u001b[38;5;28mlen\u001b[39m(first_row) \u001b[38;5;241m>\u001b[39m \u001b[38;5;241m1\u001b[39m):\n\u001b[0;32m    387\u001b[0m     \u001b[38;5;66;03m# [1, 2, 3] or [[1., 2., 3]] or [[1, 2]]\u001b[39;00m\n\u001b[0;32m    388\u001b[0m     \u001b[38;5;28;01mreturn\u001b[39;00m \u001b[38;5;124m\"\u001b[39m\u001b[38;5;124mmulticlass\u001b[39m\u001b[38;5;124m\"\u001b[39m \u001b[38;5;241m+\u001b[39m suffix\n\u001b[0;32m    389\u001b[0m \u001b[38;5;28;01melse\u001b[39;00m:\n",
      "File \u001b[1;32md:\\Softwares\\Minoconda\\envs\\MA\\Lib\\site-packages\\sklearn\\utils\\_array_api.py:84\u001b[0m, in \u001b[0;36m_NumPyApiWrapper.unique_values\u001b[1;34m(self, x)\u001b[0m\n\u001b[0;32m     83\u001b[0m \u001b[38;5;28;01mdef\u001b[39;00m \u001b[38;5;21munique_values\u001b[39m(\u001b[38;5;28mself\u001b[39m, x):\n\u001b[1;32m---> 84\u001b[0m     \u001b[38;5;28;01mreturn\u001b[39;00m \u001b[43mnumpy\u001b[49m\u001b[38;5;241;43m.\u001b[39;49m\u001b[43munique\u001b[49m\u001b[43m(\u001b[49m\u001b[43mx\u001b[49m\u001b[43m)\u001b[49m\n",
      "File \u001b[1;32md:\\Softwares\\Minoconda\\envs\\MA\\Lib\\site-packages\\numpy\\lib\\arraysetops.py:274\u001b[0m, in \u001b[0;36munique\u001b[1;34m(ar, return_index, return_inverse, return_counts, axis, equal_nan)\u001b[0m\n\u001b[0;32m    272\u001b[0m ar \u001b[38;5;241m=\u001b[39m np\u001b[38;5;241m.\u001b[39masanyarray(ar)\n\u001b[0;32m    273\u001b[0m \u001b[38;5;28;01mif\u001b[39;00m axis \u001b[38;5;129;01mis\u001b[39;00m \u001b[38;5;28;01mNone\u001b[39;00m:\n\u001b[1;32m--> 274\u001b[0m     ret \u001b[38;5;241m=\u001b[39m \u001b[43m_unique1d\u001b[49m\u001b[43m(\u001b[49m\u001b[43mar\u001b[49m\u001b[43m,\u001b[49m\u001b[43m \u001b[49m\u001b[43mreturn_index\u001b[49m\u001b[43m,\u001b[49m\u001b[43m \u001b[49m\u001b[43mreturn_inverse\u001b[49m\u001b[43m,\u001b[49m\u001b[43m \u001b[49m\u001b[43mreturn_counts\u001b[49m\u001b[43m,\u001b[49m\u001b[43m \u001b[49m\n\u001b[0;32m    275\u001b[0m \u001b[43m                    \u001b[49m\u001b[43mequal_nan\u001b[49m\u001b[38;5;241;43m=\u001b[39;49m\u001b[43mequal_nan\u001b[49m\u001b[43m)\u001b[49m\n\u001b[0;32m    276\u001b[0m     \u001b[38;5;28;01mreturn\u001b[39;00m _unpack_tuple(ret)\n\u001b[0;32m    278\u001b[0m \u001b[38;5;66;03m# axis was specified and not None\u001b[39;00m\n",
      "File \u001b[1;32md:\\Softwares\\Minoconda\\envs\\MA\\Lib\\site-packages\\numpy\\lib\\arraysetops.py:336\u001b[0m, in \u001b[0;36m_unique1d\u001b[1;34m(ar, return_index, return_inverse, return_counts, equal_nan)\u001b[0m\n\u001b[0;32m    334\u001b[0m     aux \u001b[38;5;241m=\u001b[39m ar[perm]\n\u001b[0;32m    335\u001b[0m \u001b[38;5;28;01melse\u001b[39;00m:\n\u001b[1;32m--> 336\u001b[0m     ar\u001b[38;5;241m.\u001b[39msort()\n\u001b[0;32m    337\u001b[0m     aux \u001b[38;5;241m=\u001b[39m ar\n\u001b[0;32m    338\u001b[0m mask \u001b[38;5;241m=\u001b[39m np\u001b[38;5;241m.\u001b[39mempty(aux\u001b[38;5;241m.\u001b[39mshape, dtype\u001b[38;5;241m=\u001b[39mnp\u001b[38;5;241m.\u001b[39mbool_)\n",
      "\u001b[1;31mTypeError\u001b[0m: '<' not supported between instances of 'int' and 'str'"
     ]
    }
   ],
   "source": [
    "from Terminator import Terminator\n",
    "t13 = Terminator(\"D:\\shared_git\\MaestriaThesis\\FeaturesTabs\\pp01_t13.csv\", Hyperparam = False, labels = [2,7], names = ['Air','Car'])"
   ]
  },
  {
   "cell_type": "markdown",
   "metadata": {},
   "source": [
    "### Epoched every 1 s"
   ]
  },
  {
   "cell_type": "code",
   "execution_count": 1,
   "metadata": {},
   "outputs": [
    {
     "name": "stdout",
     "output_type": "stream",
     "text": [
      "------------------------------------------------------------\n",
      "Average K-Fold Accuracy of KNN: 45.72%\n",
      "Std Dev of K-Fold Accuracy of KNN: 0.55%\n",
      "------------------------------------------------------------\n",
      "------------------------------------------------------------\n",
      "Average K-Fold Accuracy of Random Forest: 57.57%\n",
      "Std Dev of K-Fold Accuracy of Random Forest: 1.40%\n",
      "------------------------------------------------------------\n",
      "Selecting features based on mutual information\n",
      "------------------------------------------------------------\n",
      "Average K-Fold Accuracy of KNN: 43.45%\n",
      "Std Dev of K-Fold Accuracy of KNN: 0.82%\n",
      "------------------------------------------------------------\n",
      "------------------------------------------------------------\n",
      "Average K-Fold Accuracy of Random Forest: 58.02%\n",
      "Std Dev of K-Fold Accuracy of Random Forest: 1.55%\n",
      "------------------------------------------------------------\n"
     ]
    }
   ],
   "source": [
    "from Terminator import Terminator\n",
    "t15 = Terminator(\"D:\\shared_git\\MaestriaThesis\\FeaturesTabs\\pp01_t15.csv\", Hyperparam = False)"
   ]
  }
 ],
 "metadata": {
  "kernelspec": {
   "display_name": "MA",
   "language": "python",
   "name": "python3"
  },
  "language_info": {
   "codemirror_mode": {
    "name": "ipython",
    "version": 3
   },
   "file_extension": ".py",
   "mimetype": "text/x-python",
   "name": "python",
   "nbconvert_exporter": "python",
   "pygments_lexer": "ipython3",
   "version": "3.11.5"
  }
 },
 "nbformat": 4,
 "nbformat_minor": 2
}
